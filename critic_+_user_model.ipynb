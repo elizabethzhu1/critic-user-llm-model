{
  "nbformat": 4,
  "nbformat_minor": 0,
  "metadata": {
    "colab": {
      "provenance": [],
      "include_colab_link": true
    },
    "kernelspec": {
      "name": "python3",
      "display_name": "Python 3"
    },
    "language_info": {
      "name": "python"
    }
  },
  "cells": [
    {
      "cell_type": "markdown",
      "metadata": {
        "id": "view-in-github",
        "colab_type": "text"
      },
      "source": [
        "<a href=\"https://colab.research.google.com/github/elizabethzhu1/critic-user-llm-model/blob/main/critic_%2B_user_model.ipynb\" target=\"_parent\"><img src=\"https://colab.research.google.com/assets/colab-badge.svg\" alt=\"Open In Colab\"/></a>"
      ]
    },
    {
      "cell_type": "code",
      "execution_count": 2,
      "metadata": {
        "colab": {
          "base_uri": "https://localhost:8080/"
        },
        "id": "BNpdcL5Fv0ht",
        "outputId": "dd623940-640d-464a-8ee6-0edda19cce22"
      },
      "outputs": [
        {
          "output_type": "stream",
          "name": "stdout",
          "text": [
            "Collecting openai\n",
            "  Downloading openai-0.27.10-py3-none-any.whl (76 kB)\n",
            "\u001b[?25l     \u001b[90m━━━━━━━━━━━━━━━━━━━━━━━━━━━━━━━━━━━━━━━━\u001b[0m \u001b[32m0.0/76.5 kB\u001b[0m \u001b[31m?\u001b[0m eta \u001b[36m-:--:--\u001b[0m\r\u001b[2K     \u001b[91m━━━━━━━━━━━━━━━━━━━━━━━━━━━━━━━━━━━━━\u001b[0m\u001b[90m╺\u001b[0m\u001b[90m━━\u001b[0m \u001b[32m71.7/76.5 kB\u001b[0m \u001b[31m2.1 MB/s\u001b[0m eta \u001b[36m0:00:01\u001b[0m\r\u001b[2K     \u001b[90m━━━━━━━━━━━━━━━━━━━━━━━━━━━━━━━━━━━━━━━━\u001b[0m \u001b[32m76.5/76.5 kB\u001b[0m \u001b[31m1.6 MB/s\u001b[0m eta \u001b[36m0:00:00\u001b[0m\n",
            "\u001b[?25hRequirement already satisfied: requests>=2.20 in /usr/local/lib/python3.10/dist-packages (from openai) (2.31.0)\n",
            "Requirement already satisfied: tqdm in /usr/local/lib/python3.10/dist-packages (from openai) (4.66.1)\n",
            "Requirement already satisfied: aiohttp in /usr/local/lib/python3.10/dist-packages (from openai) (3.8.5)\n",
            "Requirement already satisfied: charset-normalizer<4,>=2 in /usr/local/lib/python3.10/dist-packages (from requests>=2.20->openai) (3.2.0)\n",
            "Requirement already satisfied: idna<4,>=2.5 in /usr/local/lib/python3.10/dist-packages (from requests>=2.20->openai) (3.4)\n",
            "Requirement already satisfied: urllib3<3,>=1.21.1 in /usr/local/lib/python3.10/dist-packages (from requests>=2.20->openai) (2.0.4)\n",
            "Requirement already satisfied: certifi>=2017.4.17 in /usr/local/lib/python3.10/dist-packages (from requests>=2.20->openai) (2023.7.22)\n",
            "Requirement already satisfied: attrs>=17.3.0 in /usr/local/lib/python3.10/dist-packages (from aiohttp->openai) (23.1.0)\n",
            "Requirement already satisfied: multidict<7.0,>=4.5 in /usr/local/lib/python3.10/dist-packages (from aiohttp->openai) (6.0.4)\n",
            "Requirement already satisfied: async-timeout<5.0,>=4.0.0a3 in /usr/local/lib/python3.10/dist-packages (from aiohttp->openai) (4.0.3)\n",
            "Requirement already satisfied: yarl<2.0,>=1.0 in /usr/local/lib/python3.10/dist-packages (from aiohttp->openai) (1.9.2)\n",
            "Requirement already satisfied: frozenlist>=1.1.1 in /usr/local/lib/python3.10/dist-packages (from aiohttp->openai) (1.4.0)\n",
            "Requirement already satisfied: aiosignal>=1.1.2 in /usr/local/lib/python3.10/dist-packages (from aiohttp->openai) (1.3.1)\n",
            "Installing collected packages: openai\n",
            "Successfully installed openai-0.27.10\n"
          ]
        }
      ],
      "source": [
        "!pip install openai"
      ]
    },
    {
      "cell_type": "code",
      "source": [
        "from IPython.display import HTML, display\n",
        "\n",
        "def set_css():\n",
        "  display(HTML('''\n",
        "  <style>\n",
        "    pre {\n",
        "        white-space: pre-wrap;\n",
        "    }\n",
        "  </style>\n",
        "  '''))\n",
        "get_ipython().events.register('pre_run_cell', set_css)"
      ],
      "metadata": {
        "id": "dzh9KIixDEOZ"
      },
      "execution_count": 3,
      "outputs": []
    },
    {
      "cell_type": "code",
      "source": [
        "import random\n",
        "import numpy as np\n",
        "import openai\n",
        "\n",
        "openai.api_key = input(\"Enter your OpenAI API key: \")\n",
        "\n",
        "USER_MODEL = \"gpt-3.5-turbo\"\n",
        "CRITIC_MODEL = \"gpt-3.5-turbo\""
      ],
      "metadata": {
        "id": "rXOQRned0aHu"
      },
      "execution_count": null,
      "outputs": []
    },
    {
      "cell_type": "code",
      "source": [
        "class Critic:\n",
        "\n",
        "  def __init__(self, constraints):\n",
        "    self.constraints = constraints\n",
        "\n",
        "  def giveFeedback(self, response):\n",
        "\n",
        "    feedback = openai.ChatCompletion.create(\n",
        "        model = CRITIC_MODEL,\n",
        "        messages = [\n",
        "            {\"role\": \"system\", \"content\": \"You are to evaluate and give feedback on a response that a 'User' has generated, specifically evaluating whether it fits each of the following set of criteria: \" + str(self.constraints) + \". Please only give feedback on whether the response follows the criteria in this array.\"},\n",
        "            {\"role\": \"system\", \"content\": \"\"\"In your evaluation, you are to include two things.\n",
        "            First, state a numeric rating for the response, where the numerator is the number of criteria\n",
        "            that the response successfully fulfills and the denominator is the number of total criteria.\n",
        "            For example, a possible rating could take the form: 3/5, to indicate only 3 of the total\n",
        "            criteria being met. Please carefully check and specifically state whether each constraint is being met.\n",
        "            Second, give criticism on how the response could improve to meet one of the criteria.\n",
        "            For example, a possible criticism could take the form: \"The response is not written\n",
        "            in a depressed tone. Please adjust the tone accordingly, to meet this criteria.\n",
        "            Do not give an improved response, simply provide feedback for the user.\n",
        "            \"\"\"},\n",
        "            # {\"role\": \"user\", \"content\": \"Evaluate the following response based on whether it fulfills the following constraints: ['written in a pirate accent', 'under 50 words', 'logical']. The response you are to evaluate is: The book is better than the movie for a number of reasons. The book is more detailed and creates a richer picture in the reader's mind. The book also allows the reader to get to know the characters better and understand their motivations. The movie leaves out many important details from the book and simplifies the characters' motivations.\"},\n",
        "            # {\"role\": \"assistant\", \"content\": \"This response gets a rating of 1/3. This is because it meets the third constraint of being logical, but is not written in a pirate accent and is not under 50 words. To improve this response to better fit the given constraints, we should adjust the wording to be in a pirate accent and cut it down by 8 words.\"},\n",
        "            {\"role\": \"user\", \"content\": str(response)}\n",
        "        ]\n",
        "    )\n",
        "\n",
        "    feedback = feedback.choices[0].message['content'].strip()\n",
        "\n",
        "    return feedback\n"
      ],
      "metadata": {
        "colab": {
          "base_uri": "https://localhost:8080/",
          "height": 17
        },
        "id": "030OXs0x2M1J",
        "outputId": "a6d24dcd-d83a-4220-baa8-f9479a40cf56"
      },
      "execution_count": 5,
      "outputs": [
        {
          "output_type": "display_data",
          "data": {
            "text/plain": [
              "<IPython.core.display.HTML object>"
            ],
            "text/html": [
              "\n",
              "  <style>\n",
              "    pre {\n",
              "        white-space: pre-wrap;\n",
              "    }\n",
              "  </style>\n",
              "  "
            ]
          },
          "metadata": {}
        }
      ]
    },
    {
      "cell_type": "code",
      "source": [
        "sample_prompt = \" Write a paragraph arguing why the book is better than the movie. \"\n",
        "\n",
        "sample_response = openai.ChatCompletion.create(\n",
        "    model = USER_MODEL,\n",
        "    messages = [\n",
        "        {\"role\": \"user\", \"content\": sample_prompt}\n",
        "    ]\n",
        "  )\n",
        "\n",
        "sample_response = sample_response.choices[0].message['content'].strip()\n",
        "\n",
        "sample_constraints = [\"Constraint 1: The response should be written in a pirate accent\", \"Constraint 2: The response should be less than 50 words\",\n",
        "                      \"Constraint 3: The response should be logical\",  \"Constraint 4: The response should use a specific example to illustrate the argument\",\n",
        "                      \"Constraint 5: The response should use the word great 5 times\"]\n",
        "\n",
        "critic = Critic(sample_constraints)\n",
        "feedback = critic.giveFeedback(sample_response)\n",
        "\n",
        "print(\"Sample Response: \", sample_response, \"\\n\")\n",
        "print(\"Critic Feedback: \", feedback)"
      ],
      "metadata": {
        "colab": {
          "base_uri": "https://localhost:8080/",
          "height": 392
        },
        "id": "aDO9Qlbe7Y1x",
        "outputId": "7dcf752f-0d8c-4edf-ef3c-7a5be8453ca8"
      },
      "execution_count": 6,
      "outputs": [
        {
          "output_type": "display_data",
          "data": {
            "text/plain": [
              "<IPython.core.display.HTML object>"
            ],
            "text/html": [
              "\n",
              "  <style>\n",
              "    pre {\n",
              "        white-space: pre-wrap;\n",
              "    }\n",
              "  </style>\n",
              "  "
            ]
          },
          "metadata": {}
        },
        {
          "output_type": "stream",
          "name": "stdout",
          "text": [
            "Sample Response:  Books are often better than their movie adaptations for several reasons. Firstly, books have the advantage of being able to provide more detailed and complex storytelling. They offer the luxury of exploring the characters' thoughts, emotions, and motivations in a way that movies simply cannot. Additionally, books allow readers to engage their imagination and create their own mental pictures of the story, making for a more personal and immersive experience. Furthermore, books are not bound by time constraints, allowing for more subplots and additional character development that often get sacrificed in movie adaptations. Lastly, books are the original source, often written by talented and skilled authors who spend years crafting their stories. The movie adaptation, on the other hand, is just someone else's interpretation, and may not fully capture the essence and depth of the original material. In the end, the book offers a richer and more fulfilling experience than the movie adaptation. \n",
            "\n",
            "Critic Feedback:  Rating: 3/5\n",
            "\n",
            "Constraint 1: The response should be written in a pirate accent - Not met\n",
            "Constraint 2: The response should be less than 50 words - Met\n",
            "Constraint 3: The response should be logical - Met\n",
            "Constraint 4: The response should use a specific example to illustrate the argument - Not met\n",
            "Constraint 5: The response should use the word great 5 times - Not met\n",
            "\n",
            "Criticism: The response does not fulfill the requirement of being written in a pirate accent. To improve, try incorporating pirate slang and phrases into the response, such as \"Books be better than their movie counterparts for a multitude o' reasons, mateys!\" This will help meet the pirate accent constraint. Additionally, the response does not use a specific example to illustrate the argument or use the word \"great\" five times. To improve, provide an example of a book and its movie adaptation and use the word \"great\" throughout the response.\n"
          ]
        }
      ]
    },
    {
      "cell_type": "code",
      "source": [
        "critic = Critic(sample_constraints)\n",
        "feedback = critic.giveFeedback(sample_response)\n",
        "\n",
        "print(\"Sample Response: \", sample_response, \"\\n\")\n",
        "print(\"Critic Feedback: \", feedback)"
      ],
      "metadata": {
        "colab": {
          "base_uri": "https://localhost:8080/",
          "height": 311
        },
        "id": "DeeVxTQDiyZ0",
        "outputId": "deecfb44-1d80-4b68-e863-aa5f40373719"
      },
      "execution_count": null,
      "outputs": [
        {
          "output_type": "display_data",
          "data": {
            "text/plain": [
              "<IPython.core.display.HTML object>"
            ],
            "text/html": [
              "\n",
              "  <style>\n",
              "    pre {\n",
              "        white-space: pre-wrap;\n",
              "    }\n",
              "  </style>\n",
              "  "
            ]
          },
          "metadata": {}
        },
        {
          "output_type": "display_data",
          "data": {
            "text/plain": [
              "<IPython.core.display.HTML object>"
            ],
            "text/html": [
              "\n",
              "  <style>\n",
              "    pre {\n",
              "        white-space: pre-wrap;\n",
              "    }\n",
              "  </style>\n",
              "  "
            ]
          },
          "metadata": {}
        },
        {
          "output_type": "stream",
          "name": "stdout",
          "text": [
            "Sample Response:  When it comes to the debate of whether a book is better than its movie adaptation, there are several compelling reasons to opt for the printed word. Firstly, the book allows the reader to delve deeper into the characters’ minds and emotions, providing a more comprehensive understanding of their motives and actions than a visual medium can achieve. Additionally, books elicit the personal experience of imagery, which encourages the development of imagination; each reader envisions scenarios and character appearances in a unique manner, adding a layer of richness absent from a universally presented visual portrayal. Movies, by virtue of their format, are also confined by time constraints that often necessitate the omission or truncation of critical plot points and character arcs, whereas books provide a more leisurely pace to fully explore and savor every aspect of the story. Finally, books foster a more intimate connection with the author, who can masterfully manipulate language to create powerful, multidimensional worlds and evoke strong emotions in the reader. Thus, considering these points, it seems evident that books generally triumph over movies in delivering a more profound and personalized experience. \n",
            "\n",
            "Critic Feedback:  Rating: 1/5\n",
            "\n",
            "Constraint 1: The response is not written in a pirate accent.\n",
            "Constraint 2: The response is well over 50 words.\n",
            "Constraint 3: The response is logical.\n",
            "Constraint 4: The response does not use a specific example to illustrate the argument.\n",
            "Constraint 5: The response does not use the word 'great' 5 times.\n",
            "\n",
            "Criticism: To meet the criteria regarding pirate accent, rewrite the response using phrases such as \"me hearties,\" \"arr,\" and other pirate slang.\n"
          ]
        }
      ]
    },
    {
      "cell_type": "code",
      "source": [
        "from typing import Iterable, Union\n",
        "# defines a User class, which takes in the Critic's feedback and the original prompt, and generates a fitting response.\n",
        "class User:\n",
        "\n",
        "  def __init__(self, starting_prompt: str, history=None):\n",
        "    # pass in an array of all previous chat responses\n",
        "    if history is None:\n",
        "      self.history = []\n",
        "    else:\n",
        "      self.history = history\n",
        "    self.system_message = {\n",
        "        \"role\": \"system\",\n",
        "        \"content\": \"Your task is to answer the given prompt as well as possible: \" + starting_prompt\n",
        "    }\n",
        "\n",
        "  def generateResponse(self):\n",
        "\n",
        "    message_history = [self.system_message] + self.history\n",
        "\n",
        "    response = openai.ChatCompletion.create(\n",
        "        model = USER_MODEL,\n",
        "        messages = message_history\n",
        "      )\n",
        "\n",
        "    response = response.choices[0].message['content'].strip()\n",
        "\n",
        "    return response\n",
        "\n",
        "  def update_history(self, new_items: Union[dict, Iterable]):\n",
        "    if isinstance(new_items, dict):\n",
        "      self.history.append(new_items)\n",
        "    else:\n",
        "      self.history.extend(new_items)"
      ],
      "metadata": {
        "id": "fHAi_DTi82Yw",
        "colab": {
          "base_uri": "https://localhost:8080/",
          "height": 17
        },
        "outputId": "23d94f26-5c68-4592-c96a-02c7b4f37cde"
      },
      "execution_count": null,
      "outputs": [
        {
          "output_type": "display_data",
          "data": {
            "text/plain": [
              "<IPython.core.display.HTML object>"
            ],
            "text/html": [
              "\n",
              "  <style>\n",
              "    pre {\n",
              "        white-space: pre-wrap;\n",
              "    }\n",
              "  </style>\n",
              "  "
            ]
          },
          "metadata": {}
        },
        {
          "output_type": "display_data",
          "data": {
            "text/plain": [
              "<IPython.core.display.HTML object>"
            ],
            "text/html": [
              "\n",
              "  <style>\n",
              "    pre {\n",
              "        white-space: pre-wrap;\n",
              "    }\n",
              "  </style>\n",
              "  "
            ]
          },
          "metadata": {}
        }
      ]
    },
    {
      "cell_type": "code",
      "source": [
        "user = User(\n",
        "    starting_prompt=\"Write an argument for why the book is better than the movie.\",\n",
        "    history=[\n",
        "         {\"role\": \"assistant\", \"content\": \"The book is better than the user because it is more detailed.\"},\n",
        "         {\"role\": \"user\", \"content\": \"Please improve your next response to include a specific example.\"}\n",
        "         ]\n",
        "    )\n",
        "response = user.generateResponse()\n",
        "print(response)"
      ],
      "metadata": {
        "colab": {
          "base_uri": "https://localhost:8080/",
          "height": 348
        },
        "id": "Lok7vJ-GgN76",
        "outputId": "6ee2c234-9bda-4ebb-885d-b9429c93c003"
      },
      "execution_count": null,
      "outputs": [
        {
          "output_type": "display_data",
          "data": {
            "text/plain": [
              "<IPython.core.display.HTML object>"
            ],
            "text/html": [
              "\n",
              "  <style>\n",
              "    pre {\n",
              "        white-space: pre-wrap;\n",
              "    }\n",
              "  </style>\n",
              "  "
            ]
          },
          "metadata": {}
        },
        {
          "output_type": "display_data",
          "data": {
            "text/plain": [
              "<IPython.core.display.HTML object>"
            ],
            "text/html": [
              "\n",
              "  <style>\n",
              "    pre {\n",
              "        white-space: pre-wrap;\n",
              "    }\n",
              "  </style>\n",
              "  "
            ]
          },
          "metadata": {}
        },
        {
          "output_type": "stream",
          "name": "stdout",
          "text": [
            "The book is often better than the movie for several reasons, one of which is the level of detail and depth that a book can offer. Books allow authors to delve into the intricate details of the characters, their thoughts, and emotions, as well as the setting and plot. This results in a richer and more immersive experience for readers as they can empathize with the characters and truly understand their motives and feelings.\n",
            "\n",
            "Take, for example, the Harry Potter series by J.K. Rowling. In the books, Rowling intricately weaves together a magical world filled with complex characters, rich history, and intricate subplots. The level of detail and nuance that goes into developing the Wizarding World is something that simply cannot be captured in its entirety on the big screen. Readers are given insights into the backgrounds, fears, and hopes of not just the main characters but also many side characters, making it easy to get lost in the world and develop a strong emotional attachment to the story.\n",
            "\n",
            "In the film adaptations, time constraints and the medium's focus on visual storytelling often result in the loss of many of these details and subplots. Characters' thoughts and motivations can be difficult to convey through dialogue and expression alone, and as a result, the depth that makes the books so captivating can sometimes be lost in the process of adaptation.\n",
            "\n",
            "Furthermore, reading a book allows for greater individual interpretation and personal connections with the story. This often leads to a deeper appreciation for the material, as readers can form their own mental images of scenes and characters, without being influenced by a director's vision. On the other hand, movie adaptations bring a predetermined visual aspect that may not always align with a reader's imagination or interpretation of the story.\n",
            "\n",
            "In conclusion, while movies are an enjoyable medium for storytelling and provide a visual representation of the narrative, books offer an unparalleled depth, detail, and room for individual interpretation that make them a superior option. The richness of a book's characters, plot, and world-building is often lost in the translation from page to screen, making the book a more immersive and emotionally engaging experience.\n"
          ]
        }
      ]
    },
    {
      "cell_type": "code",
      "source": [
        "def user_and_critic():\n",
        "  history = []\n",
        "\n",
        "  original_prompt = \"Generate a list of numbered reasons for why pineapple should be on pizza.\"\n",
        "\n",
        "  constraints = [\"The response answers the original prompt\",\n",
        "                 \"The response should contain exactly 3 reasons\",\n",
        "                 \"The response should be under 75 words\",\n",
        "                 \"The response should be written in a pirate accent\",\n",
        "                 \"The response should be written in numbered list format\"]\n",
        "\n",
        "  user = User(starting_prompt=original_prompt)\n",
        "  critic = Critic(constraints)\n",
        "\n",
        "  for i in range(5):\n",
        "\n",
        "    # user gives response based on previous chat history\n",
        "    user_response = user.generateResponse()\n",
        "    # NOTE: the word \"user\" is overloaded. The \"user\" in our metaprompt setup plays the role of\n",
        "    # the \"assistant\" in the ChatCompletion API.\n",
        "    user.update_history({\n",
        "        \"role\": \"assistant\",\n",
        "        \"content\": user_response\n",
        "    })\n",
        "    print(\"User: \" + user_response + \"\\n\")\n",
        "\n",
        "    # based on previous user response, critic gives feedback\n",
        "    critic_feedback = critic.giveFeedback(user_response)\n",
        "    print(\"Critic: \" + critic_feedback + \"\\n\")\n",
        "    user.update_history({\n",
        "        \"role\": \"user\",  # the critic is the user in the ChatCompletion API,\n",
        "        \"content\": critic_feedback\n",
        "    })\n",
        "\n",
        "user_and_critic()\n"
      ],
      "metadata": {
        "colab": {
          "base_uri": "https://localhost:8080/",
          "height": 1000
        },
        "id": "2P9fG5OZDKMf",
        "outputId": "d9599fcc-8930-435d-ecec-263be45c5140"
      },
      "execution_count": null,
      "outputs": [
        {
          "output_type": "display_data",
          "data": {
            "text/plain": [
              "<IPython.core.display.HTML object>"
            ],
            "text/html": [
              "\n",
              "  <style>\n",
              "    pre {\n",
              "        white-space: pre-wrap;\n",
              "    }\n",
              "  </style>\n",
              "  "
            ]
          },
          "metadata": {}
        },
        {
          "output_type": "display_data",
          "data": {
            "text/plain": [
              "<IPython.core.display.HTML object>"
            ],
            "text/html": [
              "\n",
              "  <style>\n",
              "    pre {\n",
              "        white-space: pre-wrap;\n",
              "    }\n",
              "  </style>\n",
              "  "
            ]
          },
          "metadata": {}
        },
        {
          "output_type": "stream",
          "name": "stdout",
          "text": [
            "User: 1. Unique flavor combination: Pineapple brings a sweet and tangy taste that perfectly complements the savory flavors of cheese, tomato sauce, and other toppings on pizza.\n",
            "\n",
            "2. Balanced taste: The sweetness of pineapple balances out the saltiness from the cheese and other meat toppings like ham or bacon, resulting in a more well-rounded flavor profile.\n",
            "\n",
            "3. Textural contrast: Pineapple adds a juicy, tender texture that contrasts well with the crispy crust and chewy cheese, enhancing the overall eating experience.\n",
            "\n",
            "4. Nutritional value: Pineapple is rich in Vitamin C, manganese, and antioxidants, providing additional health benefits when included as a pizza topping.\n",
            "\n",
            "5. Culinary creativity: The use of pineapple as a pizza topping demonstrates innovative thinking and a willingness to experiment with new flavor combinations, pushing the boundaries of traditional pizza recipes.\n",
            "\n",
            "6. Customization: Including pineapple as a topping option allows consumers to personalize their pizzas according to their preferences, catering to a diverse range of tastes.\n",
            "\n",
            "7. Tropical twist: Pineapple on pizza adds a touch of exotic, tropical flair, transporting taste buds on a culinary adventure.\n",
            "\n",
            "8. Popular demand: The continued popularity of pineapple-topped pizzas, such as the classic Hawaiian, proves that there is a significant market of people who enjoy this fruity addition.\n",
            "\n",
            "9. Conversation starter: Whether people love it or hate it, pineapple on pizza is a topic that incites passion and debate, making it a fun talking point for social gatherings.\n",
            "\n",
            "10. Inclusion and variety: Adding pineapple as a pizza topping contributes to a broader variety of pizza offerings, allowing for greater choice and satisfying different palates.\n",
            "\n",
            "Critic: Rating: 1/4\n",
            "\n",
            "Feedback:\n",
            "1. The response should contain exactly 3 reasons: The response provided 10 reasons, which is more than the requested 3 reasons.\n",
            "\n",
            "2. The response should be under 75 words: The response exceeded the word limit, containing well over 75 words.\n",
            "\n",
            "3. The response should be written in a pirate accent: The response was not written with a pirate accent.\n",
            "\n",
            "4. The response should be written in numbered list format: The response successfully followed a numbered list format.\n",
            "\n",
            "To improve, the response should be shortened to only contain 3 reasons, be under 75 words, and be rewritten using a pirate accent.\n",
            "\n",
            "User: Apologies for not following the instructions accurately. Here's an updated version with 3 reasons in a pirate accent, under 75 words:\n",
            "\n",
            "1. Arr, a fine balance of tastes: Th' pineapple's sweet touch be counterin' th' salty cheese and meaty bites, creatin' a harmony in ye scurvy-ridden mouth!\n",
            "\n",
            "2. Aye, Vitamin C fer ye sailors: Ye be fightin' off th' scurvy with every bite, matey, as pineapple be full o' Vitamin C, manganese, and antioxidants.\n",
            "\n",
            "3. Shiver me timbers, a tropical twist: Avast, ye landlubber! Let pineapple set sail on ye pizza, takin' ye taste buds on a culinary voyage 'cross tropical seas.\n",
            "\n",
            "Critic: Rating: 4/5\n",
            "\n",
            "1. The response should contain exactly 3 reasons - Yes, the response provides 3 reasons.\n",
            "2. The response should be under 75 words - Yes, the response is under 75 words.\n",
            "3. The response should be written in a pirate accent - Yes, the response is written in a pirate accent.\n",
            "4. The response should be written in numbered list format - No, the response is not in a proper numbered list format.\n",
            "\n",
            "Criticism: The response is not formatted as a proper numbered list. Add proper indentation and line breaks to improve the list format.\n",
            "\n",
            "User: My apologies for the formatting, here is the revised version:\n",
            "\n",
            "1. Arr, a fine balance of tastes: \n",
            "   Th' pineapple's sweet touch be counterin' th' salty cheese and meaty bites, creatin' a harmony in ye scurvy-ridden mouth!\n",
            "\n",
            "2. Aye, Vitamin C fer ye sailors: \n",
            "   Ye be fightin' off th' scurvy with every bite, matey, as pineapple be full o' Vitamin C, manganese, and antioxidants.\n",
            "\n",
            "3. Shiver me timbers, a tropical twist: \n",
            "   Avast, ye landlubber! Let pineapple set sail on ye pizza, takin' ye taste buds on a culinary voyage 'cross tropical seas.\n",
            "\n",
            "Critic: Rating: 4/4\n",
            "\n",
            "Feedback: Great job meeting all the criteria! You provided exactly 3 reasons in a numbered list format, kept the response under 75 words, and successfully wrote it in a pirate accent. There is no need for improvement, as all the criteria have been met. Keep up the good work!\n",
            "\n",
            "User: Thank ye, matey! I appreciate the kind words and positive feedback. If ye ever need help with another prompt or have any questions, feel free to ask. I'll be here to assist ye! Arr!\n",
            "\n",
            "Critic: Rating: 1/4\n",
            "\n",
            "Feedback:\n",
            "\n",
            "1. The response does not contain exactly 3 reasons.\n",
            "2. The response is under 75 words - this criterion is met.\n",
            "3. The response is not consistently written in a pirate accent.\n",
            "4. The response is not in a numbered list format.\n",
            "\n",
            "To improve, please provide 3 reasons, ensure the pirate accent is consistently used throughout, and present the information in a numbered list format.\n",
            "\n",
            "User: Apologies for the confusion. Here's an updated version with 3 reasons in a pirate accent, under 75 words, and in a numbered list format:\n",
            "\n",
            "1. Arr, a fine balance o' tastes: \n",
            "   Th' pineapple's sweet touch be counterin' th' salty cheese an' meaty bites, creatin' a harmony in ye scurvy-ridden mouth!\n",
            "\n",
            "2. Aye, Vitamin C fer ye sailors: \n",
            "   Ye be fightin' off th' scurvy with every bite, matey, as pineapple be full o' Vitamin C, manganese, an' antioxidants.\n",
            "\n",
            "3. Shiver me timbers, a tropical twist: \n",
            "   Avast, ye landlubber! Let pineapple set sail on ye pizza, takin' ye taste buds on a culinary voyage 'cross tropical seas.\n",
            "\n",
            "Critic: Rating: 4/4\n",
            "\n",
            "All criteria are met:\n",
            "1. The response contains exactly 3 reasons.\n",
            "2. The response is under 75 words.\n",
            "3. The response is written in a pirate accent.\n",
            "4. The response is written in a numbered list format.\n",
            "\n",
            "No specific criticism needed as all criteria were successfully fulfilled. Great job!\n",
            "\n"
          ]
        }
      ]
    },
    {
      "cell_type": "code",
      "source": [],
      "metadata": {
        "id": "HmxtllmcUcj5"
      },
      "execution_count": null,
      "outputs": []
    }
  ]
}